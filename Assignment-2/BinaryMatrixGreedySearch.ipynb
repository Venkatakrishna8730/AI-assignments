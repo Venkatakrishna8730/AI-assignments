{
 "cells": [
  {
   "cell_type": "code",
   "execution_count": 20,
   "id": "46359fa0-a558-4238-b197-2a8d16f215be",
   "metadata": {},
   "outputs": [],
   "source": [
    "from copy import deepcopy\n",
    "\n",
    "class State:\n",
    "    def __init__(self, position, goal, matrix):\n",
    "        self.position = position\n",
    "        self.goal = goal\n",
    "        self.matrix = matrix\n",
    "\n",
    "    def goalTest(self):\n",
    "        return self.position == self.goal\n",
    "\n",
    "    def moveGen(self):\n",
    "        children = []\n",
    "        directions = [(-1, 0), (1, 0), (0, -1), (0, 1),\n",
    "                      (-1, -1), (-1, 1), (1, -1), (1, 1)]\n",
    "        i, j = self.position\n",
    "        n = len(self.matrix)\n",
    "\n",
    "        for di, dj in directions:\n",
    "            new_i, new_j = i + di, j + dj\n",
    "            if 0 <= new_i < n and 0 <= new_j < n and self.matrix[new_i][new_j] == 0:\n",
    "                child_obj = State((new_i, new_j), self.goal, self.matrix)\n",
    "                children.append(child_obj)\n",
    "\n",
    "        return children\n",
    "\n",
    "    def __str__(self):\n",
    "        return str(self.position)\n",
    "\n",
    "    def __eq__(self, other):\n",
    "        return self.position == other.position\n",
    "\n",
    "    def __hash__(self):\n",
    "        return hash(self.position)\n",
    "\n",
    "    def h(self):\n",
    "        x1, y1 = self.position\n",
    "        x2, y2 = self.goal\n",
    "        return abs(x1 - x2) + abs(y1 - y2)"
   ]
  },
  {
   "cell_type": "code",
   "execution_count": 31,
   "id": "3fefc4ec-ed87-43c6-9b1f-40b4933b04df",
   "metadata": {},
   "outputs": [],
   "source": [
    "class Search:\n",
    "    def removeSeen(self, children, open, closed):\n",
    "        open_nodes = [node for node, parent in open]\n",
    "        closed_nodes = [node for node, parent in closed]\n",
    "        return [node for node in children if node not in open_nodes and node not in closed_nodes]\n",
    "\n",
    "    def reconstructPath(self, node_pair, closed):\n",
    "        path = []\n",
    "        node, parent = node_pair\n",
    "        parent_map = {n: p for n, p in closed}\n",
    "        path.append(node)\n",
    "        while parent is not None:\n",
    "            path.insert(0, parent)\n",
    "            parent = parent_map.get(parent)\n",
    "        print(\"->\".join([str(node) for node in path]))\n",
    "        return path\n",
    "\n",
    "    def best_first_search(self,start_state):\n",
    "        open = [(start_state, None)]  \n",
    "        closed = []\n",
    "    \n",
    "        while open:\n",
    "            current_pair = min(open, key=lambda x: x[0].h())\n",
    "            open.remove(current_pair)\n",
    "            current, parent = current_pair\n",
    "    \n",
    "            if current.goalTest():\n",
    "                return self.reconstructPath((current, parent), closed)\n",
    "    \n",
    "            closed.append((current, parent))\n",
    "    \n",
    "            children = current.moveGen()\n",
    "            children = self.removeSeen(children, open, closed)\n",
    "    \n",
    "            for child in children:\n",
    "                open.append((child, current))\n",
    "                \n",
    "        print(\"-1\")\n",
    "        return None"
   ]
  },
  {
   "cell_type": "code",
   "execution_count": 35,
   "id": "64ad97dc-afde-47c2-b9fc-cffbf31b5fed",
   "metadata": {},
   "outputs": [
    {
     "name": "stdout",
     "output_type": "stream",
     "text": [
      "(0, 0)->(0, 1)->(1, 2)->(2, 2)\n"
     ]
    }
   ],
   "source": [
    "matrix = [\n",
    "    [0,0,0],\n",
    "    [1,1,0],\n",
    "    [1,1,0]\n",
    "]\n",
    "\n",
    "n = len(matrix)\n",
    "start = (0, 0)\n",
    "goal = (n - 1, n - 1)\n",
    "\n",
    "if matrix[0][0] == 1 or matrix[n - 1][n - 1] == 1:\n",
    "    print(\"-1\")\n",
    "else:\n",
    "    start_state = State(start, goal, matrix)\n",
    "    search = Search()\n",
    "    path = search.best_first_search(start_state)"
   ]
  },
  {
   "cell_type": "code",
   "execution_count": null,
   "id": "ba5a1a7b-8371-4334-89c2-74e4b569f7ab",
   "metadata": {},
   "outputs": [],
   "source": []
  }
 ],
 "metadata": {
  "kernelspec": {
   "display_name": "Python 3 (ipykernel)",
   "language": "python",
   "name": "python3"
  },
  "language_info": {
   "codemirror_mode": {
    "name": "ipython",
    "version": 3
   },
   "file_extension": ".py",
   "mimetype": "text/x-python",
   "name": "python",
   "nbconvert_exporter": "python",
   "pygments_lexer": "ipython3",
   "version": "3.10.12"
  }
 },
 "nbformat": 4,
 "nbformat_minor": 5
}
